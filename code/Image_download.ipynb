{
 "cells": [
  {
   "cell_type": "markdown",
   "id": "14fea0ba-bff0-4f98-aedf-02c6360ad96e",
   "metadata": {},
   "source": [
    "# Download Images"
   ]
  },
  {
   "cell_type": "code",
   "execution_count": null,
   "id": "fb80a59e-e34b-49e3-974e-53316a0e12ce",
   "metadata": {},
   "outputs": [],
   "source": [
    "import requests\n",
    "import pandas as pd\n",
    "import json\n",
    "import os\n",
    "from pathlib import Path\n",
    "\n",
    "df_submitters = pd.read_csv(\"/gpfs/gibbs/project/cpsc452/cpsc452_jl4286/tcga_gbm_rna_seq_cases.csv\")\n",
    "submitter_ids = sorted(df_submitters[\"submitter_id\"].tolist())\n",
    "\n",
    "url = \"https://api.gdc.cancer.gov/files\"\n",
    "filters = {\n",
    "    \"op\": \"and\",\n",
    "    \"content\": [\n",
    "        {\"op\": \"in\", \"content\": {\"field\": \"cases.project.project_id\", \"value\": [\"TCGA-GBM\"]}},\n",
    "        {\"op\": \"in\", \"content\": {\"field\": \"cases.submitter_id\", \"value\": submitter_ids}},\n",
    "        {\"op\": \"in\", \"content\": {\"field\": \"data_format\", \"value\": [\"SVS\"]}}\n",
    "    ]\n",
    "}\n",
    "params = {\n",
    "    \"filters\": json.dumps(filters),\n",
    "    \"fields\": \"file_id,file_name,cases.submitter_id,data_format,access\",\n",
    "    \"format\": \"JSON\",\n",
    "    \"size\": 10000\n",
    "}\n",
    "\n",
    "response = requests.get(url, params=params)\n",
    "results = response.json()[\"data\"][\"hits\"]\n",
    "\n",
    "file_df = pd.DataFrame(results)\n",
    "file_df = file_df.explode(\"cases\")\n",
    "file_df[\"submitter_id\"] = file_df[\"cases\"].apply(lambda x: x[\"submitter_id\"] if isinstance(x, dict) else None)\n",
    "file_df = file_df[file_df[\"file_name\"].str.endswith(\".svs\")]\n",
    "file_df = file_df[file_df[\"access\"] == \"open\"]\n",
    "file_df = file_df.sort_values(\"submitter_id\").reset_index(drop=True)\n",
    "\n",
    "print(f\"\\nTotal SVS files found: {len(file_df)}\")\n",
    "start_index = int(input(\"Enter start index (e.g., 0): \"))\n",
    "end_index = int(input(\"Enter end index (exclusive, e.g., 250): \"))\n",
    "\n",
    "selected_df = file_df.iloc[start_index:end_index].reset_index(drop=True)\n",
    "\n",
    "desktop = Path.home() / \"Desktop\"\n",
    "download_dir = desktop / f\"image_svs_manual_{start_index}_{end_index}\"\n",
    "os.makedirs(download_dir, exist_ok=True)\n",
    "\n",
    "for _, row in selected_df.iterrows():\n",
    "    raw_name = row[\"file_name\"]\n",
    "    truncated_name = raw_name.split(\".\")[0] + \".svs\"\n",
    "    out_path = download_dir / truncated_name\n",
    "    download_url = f\"https://api.gdc.cancer.gov/data/{row['file_id']}\"\n",
    "\n",
    "    print(f\"Downloading {row['submitter_id']} → {truncated_name}...\")\n",
    "    try:\n",
    "        r = requests.get(download_url, stream=True, timeout=60)\n",
    "        with open(out_path, 'wb') as f:\n",
    "            for chunk in r.iter_content(chunk_size=8192):\n",
    "                f.write(chunk)\n",
    "    except Exception as e:\n",
    "        print(f\"Failed: {row['submitter_id']} — {str(e)}\")"
   ]
  }
 ],
 "metadata": {
  "kernelspec": {
   "display_name": "Python 3 (ipykernel)",
   "language": "python",
   "name": "python3"
  },
  "language_info": {
   "codemirror_mode": {
    "name": "ipython",
    "version": 3
   },
   "file_extension": ".py",
   "mimetype": "text/x-python",
   "name": "python",
   "nbconvert_exporter": "python",
   "pygments_lexer": "ipython3",
   "version": "3.12.2"
  }
 },
 "nbformat": 4,
 "nbformat_minor": 5
}
