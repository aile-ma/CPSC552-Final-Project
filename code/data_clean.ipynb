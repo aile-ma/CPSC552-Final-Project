{
 "cells": [
  {
   "cell_type": "code",
   "execution_count": 37,
   "id": "191fe795-14b1-462d-8ee9-09eb1576abb7",
   "metadata": {},
   "outputs": [],
   "source": [
    "import os, glob\n",
    "import numpy as np\n",
    "import pandas as pd\n",
    "import torch\n",
    "import torch.nn as nn\n",
    "import torch.optim as optim\n",
    "from torch.utils.data import Dataset, DataLoader\n",
    "from torchvision import models, transforms\n",
    "import openslide\n",
    "from sklearn.preprocessing import StandardScaler, OneHotEncoder\n",
    "from lifelines.utils import concordance_index\n",
    "from sklearn.model_selection import train_test_split"
   ]
  },
  {
   "cell_type": "markdown",
   "id": "48394373",
   "metadata": {},
   "source": [
    "# Merge RNA seq data"
   ]
  },
  {
   "cell_type": "code",
   "execution_count": null,
   "id": "28538c60",
   "metadata": {},
   "outputs": [],
   "source": [
    "input_dir = \"/gpfs/gibbs/project/cpsc452/cpsc452_am4289/rna_seq_open_tsv\"\n",
    "\n",
    "expression_dfs = []\n",
    "gene_name_map = {}\n",
    "\n",
    "filepaths = sorted(glob(os.path.join(input_dir, \"*.tsv\")))\n",
    "print(f\"Found {len(filepaths)} files.\")"
   ]
  },
  {
   "cell_type": "code",
   "execution_count": null,
   "id": "684e50d7",
   "metadata": {},
   "outputs": [],
   "source": [
    "for filepath in filepaths:\n",
    "    sample_id = os.path.basename(filepath).replace(\".tsv\", \"\")\n",
    "\n",
    "    try:\n",
    "        df = pd.read_csv(filepath, sep='\\t', comment=\"#\")\n",
    "        df = df[df[\"gene_type\"] == \"protein_coding\"]\n",
    "        df = df[[\"gene_id\", \"gene_name\", \"tpm_unstranded\"]].dropna()\n",
    "\n",
    "        df[\"tpm_log\"] = np.log2(df[\"tpm_unstranded\"] + 1)\n",
    "\n",
    "        for i, row in df.iterrows():\n",
    "            gid = row[\"gene_id\"]\n",
    "            gname = row[\"gene_name\"]\n",
    "            if gid not in gene_name_map:\n",
    "                gene_name_map[gid] = gname\n",
    "\n",
    "        sample_expr = df[[\"gene_id\", \"tpm_log\"]].set_index(\"gene_id\")\n",
    "        sample_expr.columns = [sample_id]\n",
    "\n",
    "        expression_dfs.append(sample_expr)\n",
    "\n",
    "    except Exception as e:\n",
    "        print(f\"Error processing {sample_id}: {e}\")"
   ]
  },
  {
   "cell_type": "code",
   "execution_count": null,
   "id": "dfd3ba14",
   "metadata": {},
   "outputs": [],
   "source": [
    "print(\"Merging all subjects...\")\n",
    "merged_df = pd.concat(expression_dfs, axis=1, join=\"outer\")\n",
    "\n",
    "merged_df = merged_df.fillna(0)\n",
    "\n",
    "gene_names = pd.Series(gene_name_map).rename(\"gene_name\")\n",
    "merged_df.insert(0, \"gene_name\", gene_names)"
   ]
  },
  {
   "cell_type": "code",
   "execution_count": null,
   "id": "4e74f159",
   "metadata": {},
   "outputs": [],
   "source": [
    "output_csv = \"/gpfs/gibbs/project/cpsc452/cpsc452_jl4286/merged_rnaseq_logTPM_matrix.csv\"\n",
    "merged_df.to_csv(output_csv)\n",
    "\n",
    "print(f\"Final matrix saved to '{output_csv}' with shape {merged_df.shape}\")"
   ]
  },
  {
   "cell_type": "code",
   "execution_count": null,
   "id": "a0b4d286",
   "metadata": {},
   "outputs": [],
   "source": [
    "df = pd.read_csv(\"/gpfs/gibbs/project/cpsc452/cpsc452_jl4286/merged_rnaseq_logTPM_matrix.csv\", index_col=0)\n",
    "X = df.drop(columns=[\"gene_name\"]).values\n",
    "X = X.T\n",
    "\n",
    "np.save(\"/gpfs/gibbs/project/cpsc452/cpsc452_jl4286/rnaseq_data.npy\", X)"
   ]
  },
  {
   "cell_type": "markdown",
   "id": "e9e33277-7c11-414a-8112-06a58f96c549",
   "metadata": {},
   "source": [
    "# Convert rna id form csv to npy"
   ]
  },
  {
   "cell_type": "code",
   "execution_count": 3,
   "id": "dd727d01-9001-4527-b33e-4223ab19aa1d",
   "metadata": {},
   "outputs": [],
   "source": [
    "df = pd.read_csv(\"/gpfs/gibbs/project/cpsc452/cpsc452_jl4286/tcga_gbm_rna_seq_cases.csv\")\n",
    "\n",
    "rna_ids = df['submitter_id'].values\n",
    "np.save(\"/gpfs/gibbs/project/cpsc452/cpsc452_jl4286/rna_ids.npy\", rna_ids)"
   ]
  },
  {
   "cell_type": "markdown",
   "id": "5bc6829d-10ce-4e8a-b988-aae6df12e57a",
   "metadata": {},
   "source": [
    "# Clean clinical data, match to RNA matrix and RNA IDs, and save filtered ones"
   ]
  },
  {
   "cell_type": "code",
   "execution_count": 4,
   "id": "5a1a7d07-623f-4f35-b255-d91d33fb35f6",
   "metadata": {},
   "outputs": [
    {
     "name": "stdout",
     "output_type": "stream",
     "text": [
      "Found WSIs for 1074 patients\n"
     ]
    }
   ],
   "source": [
    "RNASEQ_PATH = \"/gpfs/gibbs/project/cpsc452/cpsc452_jl4286/rnaseq_data.npy\"\n",
    "RNA_IDS   = \"/gpfs/gibbs/project/cpsc452/cpsc452_jl4286/rna_ids.npy\"\n",
    "\n",
    "CLIN_CSV  = \"/gpfs/gibbs/project/cpsc452/cpsc452_jl4286/clinical.csv\"\n",
    "WSI_DIRS  = [\n",
    "    \"/gpfs/gibbs/project/cpsc452/cpsc452_jl4286/image\",\n",
    "    \"/gpfs/gibbs/project/cpsc452/cpsc452_am4289/image\",\n",
    "    \"/gpfs/gibbs/project/cpsc452/cpsc452_yg427/data/image_svs_manual\",\n",
    "    \"/gpfs/gibbs/project/cpsc452/cpsc452_yy743/image_svs_manual\",\n",
    "]\n",
    "\n",
    "wsi_map = {}\n",
    "for d in WSI_DIRS:\n",
    "    for fp in glob.glob(os.path.join(d, \"*.svs\")):\n",
    "        pid = os.path.basename(fp).split(\".\")[0]\n",
    "        wsi_map.setdefault(pid, []).append(fp)\n",
    "print(f\"Found WSIs for {len(wsi_map)} patients\")"
   ]
  },
  {
   "cell_type": "code",
   "execution_count": 15,
   "id": "c9c1f219-157c-49f4-bc8d-f41ffda0f8ff",
   "metadata": {},
   "outputs": [
    {
     "data": {
      "text/html": [
       "<div>\n",
       "<style scoped>\n",
       "    .dataframe tbody tr th:only-of-type {\n",
       "        vertical-align: middle;\n",
       "    }\n",
       "\n",
       "    .dataframe tbody tr th {\n",
       "        vertical-align: top;\n",
       "    }\n",
       "\n",
       "    .dataframe thead th {\n",
       "        text-align: right;\n",
       "    }\n",
       "</style>\n",
       "<table border=\"1\" class=\"dataframe\">\n",
       "  <thead>\n",
       "    <tr style=\"text-align: right;\">\n",
       "      <th></th>\n",
       "      <th>case_submitter_id</th>\n",
       "      <th>days_to_death</th>\n",
       "      <th>days_to_birth</th>\n",
       "      <th>gender</th>\n",
       "      <th>ethnicity</th>\n",
       "      <th>race</th>\n",
       "      <th>vital_status</th>\n",
       "    </tr>\n",
       "  </thead>\n",
       "  <tbody>\n",
       "    <tr>\n",
       "      <th>0</th>\n",
       "      <td>TCGA-14-1034</td>\n",
       "      <td>485</td>\n",
       "      <td>22029</td>\n",
       "      <td>1</td>\n",
       "      <td>not reported</td>\n",
       "      <td>not reported</td>\n",
       "      <td>Dead</td>\n",
       "    </tr>\n",
       "    <tr>\n",
       "      <th>1</th>\n",
       "      <td>TCGA-06-0140</td>\n",
       "      <td>6</td>\n",
       "      <td>31566</td>\n",
       "      <td>0</td>\n",
       "      <td>not hispanic or latino</td>\n",
       "      <td>white</td>\n",
       "      <td>Dead</td>\n",
       "    </tr>\n",
       "    <tr>\n",
       "      <th>2</th>\n",
       "      <td>TCGA-06-0171</td>\n",
       "      <td>399</td>\n",
       "      <td>24085</td>\n",
       "      <td>0</td>\n",
       "      <td>not hispanic or latino</td>\n",
       "      <td>white</td>\n",
       "      <td>Dead</td>\n",
       "    </tr>\n",
       "    <tr>\n",
       "      <th>3</th>\n",
       "      <td>TCGA-12-0819</td>\n",
       "      <td>754</td>\n",
       "      <td>18160</td>\n",
       "      <td>1</td>\n",
       "      <td>not hispanic or latino</td>\n",
       "      <td>black or african american</td>\n",
       "      <td>Dead</td>\n",
       "    </tr>\n",
       "    <tr>\n",
       "      <th>4</th>\n",
       "      <td>TCGA-12-0619</td>\n",
       "      <td>1062</td>\n",
       "      <td>21920</td>\n",
       "      <td>0</td>\n",
       "      <td>not hispanic or latino</td>\n",
       "      <td>white</td>\n",
       "      <td>Dead</td>\n",
       "    </tr>\n",
       "  </tbody>\n",
       "</table>\n",
       "</div>"
      ],
      "text/plain": [
       "  case_submitter_id days_to_death  days_to_birth  gender  \\\n",
       "0      TCGA-14-1034           485          22029       1   \n",
       "1      TCGA-06-0140             6          31566       0   \n",
       "2      TCGA-06-0171           399          24085       0   \n",
       "3      TCGA-12-0819           754          18160       1   \n",
       "4      TCGA-12-0619          1062          21920       0   \n",
       "\n",
       "                ethnicity                       race vital_status  \n",
       "0            not reported               not reported         Dead  \n",
       "1  not hispanic or latino                      white         Dead  \n",
       "2  not hispanic or latino                      white         Dead  \n",
       "3  not hispanic or latino  black or african american         Dead  \n",
       "4  not hispanic or latino                      white         Dead  "
      ]
     },
     "execution_count": 15,
     "metadata": {},
     "output_type": "execute_result"
    }
   ],
   "source": [
    "clin = pd.read_csv(CLIN_CSV)\n",
    "clin.head()"
   ]
  },
  {
   "cell_type": "code",
   "execution_count": 16,
   "id": "32be33b6-1aa7-4635-b4a5-441a68a6b617",
   "metadata": {},
   "outputs": [],
   "source": [
    "clin[\"days_to_death\"] = pd.to_numeric(clin[\"days_to_death\"], errors=\"coerce\")\n",
    "clin[\"event\"] = np.where(clin[\"vital_status\"] == \"Dead\", 1, 0)\n",
    "\n",
    "clin[\"survival_time\"] = np.where(\n",
    "    clin[\"event\"] == 1,\n",
    "    clin[\"days_to_death\"],\n",
    "    5000)"
   ]
  },
  {
   "cell_type": "code",
   "execution_count": 18,
   "id": "6e3ef78b-0a9f-4c99-94ff-a84e14fa516d",
   "metadata": {},
   "outputs": [],
   "source": [
    "rna_ids = np.load(RNA_IDS, allow_pickle=True)\n",
    "\n",
    "clin = clin[clin[\"case_submitter_id\"].isin(rna_ids)]\n",
    "clin[\"race\"] = clin[\"race\"].replace(\"not reported\", \"unknown\")\n",
    "\n",
    "race_dummies = pd.get_dummies(clin[\"race\"], prefix=\"race\")\n",
    "clin = pd.concat([clin.drop(\"race\", axis=1), race_dummies], axis=1)"
   ]
  },
  {
   "cell_type": "code",
   "execution_count": 20,
   "id": "200310fe-f913-4798-af3c-9eb70231ca9c",
   "metadata": {},
   "outputs": [],
   "source": [
    "clin = clin.rename(columns={\n",
    "    \"case_submitter_id\": \"submitter_id\",\n",
    "    \"race_black or african american\": \"race_black\"\n",
    "})\n",
    "clin.to_csv(\"/gpfs/gibbs/project/cpsc452/cpsc452_jl4286/cleaned_clinical.csv\", index=False)"
   ]
  },
  {
   "cell_type": "code",
   "execution_count": 30,
   "id": "ca99ca95-7cf2-463c-bfbe-ce3043297ec3",
   "metadata": {},
   "outputs": [
    {
     "name": "stdout",
     "output_type": "stream",
     "text": [
      "RNA matrix: (293, 19962)\n"
     ]
    }
   ],
   "source": [
    "rna_mat = np.load(RNASEQ_PATH)\n",
    "pid2idx = {pid:i for i,pid in enumerate(rna_ids)}\n",
    "\n",
    "print(\"RNA matrix:\", rna_mat.shape)"
   ]
  },
  {
   "cell_type": "code",
   "execution_count": 32,
   "id": "db309199-a930-4d4a-bd21-6814ef30e587",
   "metadata": {},
   "outputs": [
    {
     "name": "stdout",
     "output_type": "stream",
     "text": [
      "Filtered RNA matrix shape: (286, 19962)\n"
     ]
    }
   ],
   "source": [
    "matched_ids = list(rna_ids_set & clin_ids)\n",
    "matched_idx = [i for i, pid in enumerate(rna_ids) if pid in matched_ids]\n",
    "\n",
    "rna_mat_filtered = rna_mat[matched_idx]\n",
    "rna_ids_filtered = [rna_ids[i] for i in matched_idx]\n",
    "\n",
    "np.save(\"filtered_rnaseq_data.npy\", rna_mat_filtered)\n",
    "np.save(\"filtered_rna_ids.npy\", rna_ids_filtered)\n",
    "\n",
    "print(f\"Filtered RNA matrix shape: {rna_mat_filtered.shape}\")"
   ]
  }
 ],
 "metadata": {
  "kernelspec": {
   "display_name": "Python 3 (ipykernel)",
   "language": "python",
   "name": "python3"
  },
  "language_info": {
   "codemirror_mode": {
    "name": "ipython",
    "version": 3
   },
   "file_extension": ".py",
   "mimetype": "text/x-python",
   "name": "python",
   "nbconvert_exporter": "python",
   "pygments_lexer": "ipython3",
   "version": "3.12.2"
  }
 },
 "nbformat": 4,
 "nbformat_minor": 5
}
